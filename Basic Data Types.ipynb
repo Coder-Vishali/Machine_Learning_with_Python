{
 "cells": [
  {
   "cell_type": "markdown",
   "id": "dd21048a",
   "metadata": {},
   "source": [
    "# Basic Data Types"
   ]
  },
  {
   "cell_type": "code",
   "execution_count": 4,
   "id": "a2a9de26",
   "metadata": {},
   "outputs": [],
   "source": [
    "from IPython.core.interactiveshell import InteractiveShell\n",
    "InteractiveShell.ast_node_interactivity = 'all'"
   ]
  },
  {
   "cell_type": "code",
   "execution_count": 5,
   "id": "0e5e3449",
   "metadata": {},
   "outputs": [
    {
     "data": {
      "text/plain": [
       "[20, 30, 40, 50, 60, 70, 80]"
      ]
     },
     "execution_count": 5,
     "metadata": {},
     "output_type": "execute_result"
    }
   ],
   "source": [
    "# List, Disctionary, Tuple\n",
    "\n",
    "# List - Collection of items\n",
    "mylist = [20,30,40,50,60,70,80]\n",
    "mylist"
   ]
  },
  {
   "cell_type": "code",
   "execution_count": 6,
   "id": "8319fc95",
   "metadata": {},
   "outputs": [
    {
     "data": {
      "text/plain": [
       "20"
      ]
     },
     "execution_count": 6,
     "metadata": {},
     "output_type": "execute_result"
    }
   ],
   "source": [
    "# To print only one value\n",
    "mylist[0]"
   ]
  },
  {
   "cell_type": "code",
   "execution_count": 10,
   "id": "88374911",
   "metadata": {},
   "outputs": [
    {
     "data": {
      "text/plain": [
       "[20, 30]"
      ]
     },
     "execution_count": 10,
     "metadata": {},
     "output_type": "execute_result"
    }
   ],
   "source": [
    "# end index value won't be included in the result\n",
    "# to print sequence data\n",
    "mylist[0:2]"
   ]
  },
  {
   "cell_type": "code",
   "execution_count": 9,
   "id": "05490f93",
   "metadata": {},
   "outputs": [
    {
     "data": {
      "text/plain": [
       "[20, 30, 40, 50, 60, 70, 80]"
      ]
     },
     "execution_count": 9,
     "metadata": {},
     "output_type": "execute_result"
    }
   ],
   "source": [
    "# Even if you try to give high range. It doesn't throw you any error\n",
    "mylist[0:30]"
   ]
  },
  {
   "cell_type": "code",
   "execution_count": 14,
   "id": "68def5a4",
   "metadata": {},
   "outputs": [
    {
     "data": {
      "text/plain": [
       "[40, 50, 60, 70, 80]"
      ]
     },
     "execution_count": 14,
     "metadata": {},
     "output_type": "execute_result"
    }
   ],
   "source": [
    "# If you are not sure about last index\n",
    "mylist[2:]"
   ]
  },
  {
   "cell_type": "code",
   "execution_count": 15,
   "id": "fa891e05",
   "metadata": {},
   "outputs": [
    {
     "data": {
      "text/plain": [
       "[20, 40]"
      ]
     },
     "execution_count": 15,
     "metadata": {},
     "output_type": "execute_result"
    }
   ],
   "source": [
    "# To print only 20 and 40\n",
    "mylist[0:3:2]"
   ]
  },
  {
   "cell_type": "code",
   "execution_count": 20,
   "id": "54d74a2f",
   "metadata": {},
   "outputs": [
    {
     "data": {
      "text/plain": [
       "[1, 'b', 3]"
      ]
     },
     "execution_count": 20,
     "metadata": {},
     "output_type": "execute_result"
    }
   ],
   "source": [
    "# List can have different types of elements\n",
    "x = [1,\"b\",3]\n",
    "x"
   ]
  },
  {
   "cell_type": "code",
   "execution_count": 21,
   "id": "6b4d6942",
   "metadata": {},
   "outputs": [
    {
     "data": {
      "text/plain": [
       "'b'"
      ]
     },
     "execution_count": 21,
     "metadata": {},
     "output_type": "execute_result"
    }
   ],
   "source": [
    "# to access b value\n",
    "x[1]"
   ]
  },
  {
   "cell_type": "code",
   "execution_count": 22,
   "id": "56341fb7",
   "metadata": {},
   "outputs": [],
   "source": [
    "#Dictionary - collection of key value pair\n",
    "# It can container any datatype\n",
    "dict ={'Raghu': 'trainer', 'you':'particpants', 3: \"my number\"}"
   ]
  },
  {
   "cell_type": "code",
   "execution_count": 23,
   "id": "a9d99caf",
   "metadata": {},
   "outputs": [
    {
     "data": {
      "text/plain": [
       "'trainer'"
      ]
     },
     "execution_count": 23,
     "metadata": {},
     "output_type": "execute_result"
    }
   ],
   "source": [
    "# access particular value from a key \n",
    "dict[\"Raghu\"]"
   ]
  },
  {
   "cell_type": "code",
   "execution_count": 24,
   "id": "5688dff4",
   "metadata": {},
   "outputs": [
    {
     "data": {
      "text/plain": [
       "'my number'"
      ]
     },
     "execution_count": 24,
     "metadata": {},
     "output_type": "execute_result"
    }
   ],
   "source": [
    "dict[3]"
   ]
  },
  {
   "cell_type": "code",
   "execution_count": 26,
   "id": "f2f6afa4",
   "metadata": {},
   "outputs": [
    {
     "data": {
      "text/plain": [
       "dict_keys(['Raghu', 'you', 3])"
      ]
     },
     "execution_count": 26,
     "metadata": {},
     "output_type": "execute_result"
    }
   ],
   "source": [
    "# To display all keys\n",
    "dict.keys()"
   ]
  },
  {
   "cell_type": "code",
   "execution_count": 27,
   "id": "a6a12236",
   "metadata": {},
   "outputs": [
    {
     "data": {
      "text/plain": [
       "dict_values(['trainer', 'particpants', 'my number'])"
      ]
     },
     "execution_count": 27,
     "metadata": {},
     "output_type": "execute_result"
    }
   ],
   "source": [
    "# to display all values\n",
    "dict.values()"
   ]
  },
  {
   "cell_type": "code",
   "execution_count": 28,
   "id": "5e833a1c",
   "metadata": {},
   "outputs": [
    {
     "data": {
      "text/plain": [
       "{'s_1': ['IBM'], 's_2': ['INFYS', 'WIPRO', 'GOOGLE']}"
      ]
     },
     "execution_count": 28,
     "metadata": {},
     "output_type": "execute_result"
    }
   ],
   "source": [
    "students = {\"s_1\": [\"IBM\"], \"s_2\":[\"INFYS\",\"WIPRO\",\"GOOGLE\"]}\n",
    "students"
   ]
  },
  {
   "cell_type": "code",
   "execution_count": 29,
   "id": "84372e37",
   "metadata": {},
   "outputs": [
    {
     "data": {
      "text/plain": [
       "['IBM']"
      ]
     },
     "execution_count": 29,
     "metadata": {},
     "output_type": "execute_result"
    }
   ],
   "source": [
    "students[\"s_1\"]"
   ]
  },
  {
   "cell_type": "code",
   "execution_count": 30,
   "id": "dfa30dab",
   "metadata": {},
   "outputs": [
    {
     "data": {
      "text/plain": [
       "['INFYS', 'WIPRO', 'GOOGLE']"
      ]
     },
     "execution_count": 30,
     "metadata": {},
     "output_type": "execute_result"
    }
   ],
   "source": [
    "students[\"s_2\"]"
   ]
  },
  {
   "cell_type": "code",
   "execution_count": 31,
   "id": "bd2d2a3e",
   "metadata": {},
   "outputs": [
    {
     "data": {
      "text/plain": [
       "'WIPRO'"
      ]
     },
     "execution_count": 31,
     "metadata": {},
     "output_type": "execute_result"
    }
   ],
   "source": [
    "students[\"s_2\"][1]"
   ]
  },
  {
   "cell_type": "code",
   "execution_count": null,
   "id": "547ba4eb",
   "metadata": {},
   "outputs": [],
   "source": [
    "# Tuple:\n",
    "# Difference between tuple and list\n",
    "#Tuple - immutable\n",
    "#list - mutable - meaning you can add and pop elements"
   ]
  },
  {
   "cell_type": "code",
   "execution_count": 32,
   "id": "9c2c0399",
   "metadata": {},
   "outputs": [
    {
     "data": {
      "text/plain": [
       "[1, 3, 4, 5, 7]"
      ]
     },
     "execution_count": 32,
     "metadata": {},
     "output_type": "execute_result"
    }
   ],
   "source": [
    "mytuple =(1,2,3,4,1)\n",
    "mylist=[1,3,4,5]\n",
    "mylist.append(7)\n",
    "mylist"
   ]
  }
 ],
 "metadata": {
  "kernelspec": {
   "display_name": "Python 3 (ipykernel)",
   "language": "python",
   "name": "python3"
  },
  "language_info": {
   "codemirror_mode": {
    "name": "ipython",
    "version": 3
   },
   "file_extension": ".py",
   "mimetype": "text/x-python",
   "name": "python",
   "nbconvert_exporter": "python",
   "pygments_lexer": "ipython3",
   "version": "3.9.12"
  }
 },
 "nbformat": 4,
 "nbformat_minor": 5
}
